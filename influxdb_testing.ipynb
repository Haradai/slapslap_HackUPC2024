{
 "cells": [
  {
   "cell_type": "code",
   "execution_count": 3,
   "metadata": {},
   "outputs": [],
   "source": [
    "!export INFLUXDB_TOKEN=-4jIK4uJ0tX4gN3JiDC8CzQEVyXZRiyQ6axr0QuHFQvoXXcnMUwj6InzndgYeFn_ScFkUu9KXaQZlD9NKO4oKQ=="
   ]
  },
  {
   "cell_type": "code",
   "execution_count": 34,
   "metadata": {},
   "outputs": [],
   "source": [
    "from influxdb_client_3 import InfluxDBClient3, Point"
   ]
  },
  {
   "cell_type": "code",
   "execution_count": 35,
   "metadata": {},
   "outputs": [],
   "source": [
    "client = InfluxDBClient3(token=\"ygYcYy950HBz1C1oj2oD6LUBfOyl-WiwkC47xiUPDfmJby3dv1DPlldTACZ1SXrJXjSoH97TZxNUcGKY5-XFdw==\",\n",
    "                         host=\"http://localhost:8086\",\n",
    "                         org=\"slapslap_organization\",\n",
    "                         database=\"slapslap_bucket\")"
   ]
  },
  {
   "cell_type": "code",
   "execution_count": 36,
   "metadata": {},
   "outputs": [],
   "source": [
    "point = Point(\"measurement\").tag(\"location\", \"london\").field(\"temperature\", 42)\n",
    "client.write(point)"
   ]
  },
  {
   "cell_type": "code",
   "execution_count": 39,
   "metadata": {},
   "outputs": [
    {
     "name": "stdout",
     "output_type": "stream",
     "text": [
      "wrote\n",
      "wrote\n",
      "wrote\n",
      "wrote\n",
      "wrote\n"
     ]
    },
    {
     "name": "stderr",
     "output_type": "stream",
     "text": [
      "E0504 11:51:35.273854000 6261026816 ssl_transport_security.cc:1501]    Handshake failed with fatal error SSL_ERROR_SSL: error:0A00010B:SSL routines::wrong version number.\n",
      "E0504 11:52:00.289079000 6267334656 ssl_transport_security.cc:1501]    Handshake failed with fatal error SSL_ERROR_SSL: error:0A00010B:SSL routines::wrong version number.\n",
      "E0504 11:53:25.323204000 6261026816 ssl_transport_security.cc:1501]    Handshake failed with fatal error SSL_ERROR_SSL: error:0A00010B:SSL routines::wrong version number.\n",
      "E0504 11:54:15.350469000 6261026816 ssl_transport_security.cc:1501]    Handshake failed with fatal error SSL_ERROR_SSL: error:0A00010B:SSL routines::wrong version number.\n",
      "E0504 11:55:45.398126000 6261026816 ssl_transport_security.cc:1501]    Handshake failed with fatal error SSL_ERROR_SSL: error:0A00010B:SSL routines::wrong version number.\n",
      "E0504 11:56:05.418313000 6261026816 ssl_transport_security.cc:1501]    Handshake failed with fatal error SSL_ERROR_SSL: error:0A00010B:SSL routines::wrong version number.\n",
      "E0504 11:57:45.487895000 6267334656 ssl_transport_security.cc:1501]    Handshake failed with fatal error SSL_ERROR_SSL: error:0A00010B:SSL routines::wrong version number.\n",
      "E0504 11:57:55.495103000 6267334656 ssl_transport_security.cc:1501]    Handshake failed with fatal error SSL_ERROR_SSL: error:0A00010B:SSL routines::wrong version number.\n",
      "E0504 11:59:40.558180000 6261026816 ssl_transport_security.cc:1501]    Handshake failed with fatal error SSL_ERROR_SSL: error:0A00010B:SSL routines::wrong version number.\n",
      "E0504 12:00:15.583678000 6267334656 ssl_transport_security.cc:1501]    Handshake failed with fatal error SSL_ERROR_SSL: error:0A00010B:SSL routines::wrong version number.\n",
      "E0504 12:01:55.666105000 6267334656 ssl_transport_security.cc:1501]    Handshake failed with fatal error SSL_ERROR_SSL: error:0A00010B:SSL routines::wrong version number.\n",
      "E0504 12:02:15.674227000 6267334656 ssl_transport_security.cc:1501]    Handshake failed with fatal error SSL_ERROR_SSL: error:0A00010B:SSL routines::wrong version number.\n",
      "E0504 12:03:30.718979000 6267334656 ssl_transport_security.cc:1501]    Handshake failed with fatal error SSL_ERROR_SSL: error:0A00010B:SSL routines::wrong version number.\n",
      "E0504 12:04:10.741764000 6261026816 ssl_transport_security.cc:1501]    Handshake failed with fatal error SSL_ERROR_SSL: error:0A00010B:SSL routines::wrong version number.\n",
      "E0504 12:09:37.920902000 6261026816 ssl_transport_security.cc:1501]    Handshake failed with fatal error SSL_ERROR_SSL: error:0A00010B:SSL routines::wrong version number.\n",
      "E0504 12:10:17.953920000 6261026816 ssl_transport_security.cc:1501]    Handshake failed with fatal error SSL_ERROR_SSL: error:0A00010B:SSL routines::wrong version number.\n",
      "E0504 12:11:33.016320000 6261026816 ssl_transport_security.cc:1501]    Handshake failed with fatal error SSL_ERROR_SSL: error:0A00010B:SSL routines::wrong version number.\n",
      "E0504 12:12:28.041195000 6267334656 ssl_transport_security.cc:1501]    Handshake failed with fatal error SSL_ERROR_SSL: error:0A00010B:SSL routines::wrong version number.\n",
      "E0504 12:13:18.069948000 6267334656 ssl_transport_security.cc:1501]    Handshake failed with fatal error SSL_ERROR_SSL: error:0A00010B:SSL routines::wrong version number.\n",
      "E0504 12:14:08.093999000 6267334656 ssl_transport_security.cc:1501]    Handshake failed with fatal error SSL_ERROR_SSL: error:0A00010B:SSL routines::wrong version number.\n",
      "E0504 12:15:18.131863000 6267334656 ssl_transport_security.cc:1501]    Handshake failed with fatal error SSL_ERROR_SSL: error:0A00010B:SSL routines::wrong version number.\n",
      "E0504 12:15:58.150528000 6267334656 ssl_transport_security.cc:1501]    Handshake failed with fatal error SSL_ERROR_SSL: error:0A00010B:SSL routines::wrong version number.\n",
      "E0504 12:17:08.192118000 6267334656 ssl_transport_security.cc:1501]    Handshake failed with fatal error SSL_ERROR_SSL: error:0A00010B:SSL routines::wrong version number.\n",
      "E0504 12:17:43.212258000 6261026816 ssl_transport_security.cc:1501]    Handshake failed with fatal error SSL_ERROR_SSL: error:0A00010B:SSL routines::wrong version number.\n",
      "E0504 12:19:13.254502000 6261026816 ssl_transport_security.cc:1501]    Handshake failed with fatal error SSL_ERROR_SSL: error:0A00010B:SSL routines::wrong version number.\n",
      "E0504 12:20:03.279402000 6261026816 ssl_transport_security.cc:1501]    Handshake failed with fatal error SSL_ERROR_SSL: error:0A00010B:SSL routines::wrong version number.\n",
      "E0504 12:21:18.327651000 6261026816 ssl_transport_security.cc:1501]    Handshake failed with fatal error SSL_ERROR_SSL: error:0A00010B:SSL routines::wrong version number.\n",
      "E0504 12:22:13.357552000 6267334656 ssl_transport_security.cc:1501]    Handshake failed with fatal error SSL_ERROR_SSL: error:0A00010B:SSL routines::wrong version number.\n",
      "E0504 12:23:03.389430000 6267334656 ssl_transport_security.cc:1501]    Handshake failed with fatal error SSL_ERROR_SSL: error:0A00010B:SSL routines::wrong version number.\n",
      "E0504 12:23:53.431059000 6261026816 ssl_transport_security.cc:1501]    Handshake failed with fatal error SSL_ERROR_SSL: error:0A00010B:SSL routines::wrong version number.\n",
      "E0504 12:24:48.457808000 6267334656 ssl_transport_security.cc:1501]    Handshake failed with fatal error SSL_ERROR_SSL: error:0A00010B:SSL routines::wrong version number.\n",
      "E0504 12:25:38.492172000 6267334656 ssl_transport_security.cc:1501]    Handshake failed with fatal error SSL_ERROR_SSL: error:0A00010B:SSL routines::wrong version number.\n",
      "E0504 12:27:08.557011000 6267334656 ssl_transport_security.cc:1501]    Handshake failed with fatal error SSL_ERROR_SSL: error:0A00010B:SSL routines::wrong version number.\n",
      "E0504 12:27:43.581088000 6261026816 ssl_transport_security.cc:1501]    Handshake failed with fatal error SSL_ERROR_SSL: error:0A00010B:SSL routines::wrong version number.\n",
      "E0504 12:29:28.640053000 6267334656 ssl_transport_security.cc:1501]    Handshake failed with fatal error SSL_ERROR_SSL: error:0A00010B:SSL routines::wrong version number.\n",
      "E0504 12:29:38.645994000 6267334656 ssl_transport_security.cc:1501]    Handshake failed with fatal error SSL_ERROR_SSL: error:0A00010B:SSL routines::wrong version number.\n",
      "E0504 12:31:48.686294000 6267334656 ssl_transport_security.cc:1501]    Handshake failed with fatal error SSL_ERROR_SSL: error:0A00010B:SSL routines::wrong version number.\n",
      "E0504 12:31:58.697137000 6267334656 ssl_transport_security.cc:1501]    Handshake failed with fatal error SSL_ERROR_SSL: error:0A00010B:SSL routines::wrong version number.\n",
      "E0504 12:34:13.762413000 6267334656 ssl_transport_security.cc:1501]    Handshake failed with fatal error SSL_ERROR_SSL: error:0A00010B:SSL routines::wrong version number.\n",
      "E0504 12:34:23.766308000 6267334656 ssl_transport_security.cc:1501]    Handshake failed with fatal error SSL_ERROR_SSL: error:0A00010B:SSL routines::wrong version number.\n",
      "E0504 12:36:03.834375000 6267334656 ssl_transport_security.cc:1501]    Handshake failed with fatal error SSL_ERROR_SSL: error:0A00010B:SSL routines::wrong version number.\n",
      "E0504 12:36:13.844077000 6267334656 ssl_transport_security.cc:1501]    Handshake failed with fatal error SSL_ERROR_SSL: error:0A00010B:SSL routines::wrong version number.\n",
      "E0504 12:38:08.918077000 6261026816 ssl_transport_security.cc:1501]    Handshake failed with fatal error SSL_ERROR_SSL: error:0A00010B:SSL routines::wrong version number.\n",
      "E0504 12:38:33.935649000 6267334656 ssl_transport_security.cc:1501]    Handshake failed with fatal error SSL_ERROR_SSL: error:0A00010B:SSL routines::wrong version number.\n",
      "E0504 12:40:28.992440000 6267334656 ssl_transport_security.cc:1501]    Handshake failed with fatal error SSL_ERROR_SSL: error:0A00010B:SSL routines::wrong version number.\n",
      "E0504 12:40:38.996037000 6267334656 ssl_transport_security.cc:1501]    Handshake failed with fatal error SSL_ERROR_SSL: error:0A00010B:SSL routines::wrong version number.\n",
      "E0504 12:43:13.421014000 6261026816 ssl_transport_security.cc:1501]    Handshake failed with fatal error SSL_ERROR_SSL: error:0A00010B:SSL routines::wrong version number.\n",
      "E0504 13:01:06.542794000 6267334656 ssl_transport_security.cc:1501]    Handshake failed with fatal error SSL_ERROR_SSL: error:0A00010B:SSL routines::wrong version number.\n",
      "E0504 13:02:16.561211000 6267334656 ssl_transport_security.cc:1501]    Handshake failed with fatal error SSL_ERROR_SSL: error:0A00010B:SSL routines::wrong version number.\n",
      "E0504 13:02:41.571370000 6261026816 ssl_transport_security.cc:1501]    Handshake failed with fatal error SSL_ERROR_SSL: error:0A00010B:SSL routines::wrong version number.\n",
      "E0504 13:04:31.643633000 6267334656 ssl_transport_security.cc:1501]    Handshake failed with fatal error SSL_ERROR_SSL: error:0A00010B:SSL routines::wrong version number.\n",
      "E0504 13:05:06.658017000 6261026816 ssl_transport_security.cc:1501]    Handshake failed with fatal error SSL_ERROR_SSL: error:0A00010B:SSL routines::wrong version number.\n",
      "E0504 13:06:21.697671000 6267334656 ssl_transport_security.cc:1501]    Handshake failed with fatal error SSL_ERROR_SSL: error:0A00010B:SSL routines::wrong version number.\n",
      "E0504 13:07:11.723130000 6267334656 ssl_transport_security.cc:1501]    Handshake failed with fatal error SSL_ERROR_SSL: error:0A00010B:SSL routines::wrong version number.\n",
      "E0504 13:08:16.753215000 6261026816 ssl_transport_security.cc:1501]    Handshake failed with fatal error SSL_ERROR_SSL: error:0A00010B:SSL routines::wrong version number.\n",
      "E0504 13:09:26.805022000 6261026816 ssl_transport_security.cc:1501]    Handshake failed with fatal error SSL_ERROR_SSL: error:0A00010B:SSL routines::wrong version number.\n",
      "E0504 13:10:16.834240000 6261026816 ssl_transport_security.cc:1501]    Handshake failed with fatal error SSL_ERROR_SSL: error:0A00010B:SSL routines::wrong version number.\n",
      "E0504 13:11:36.894019000 6261026816 ssl_transport_security.cc:1501]    Handshake failed with fatal error SSL_ERROR_SSL: error:0A00010B:SSL routines::wrong version number.\n",
      "E0504 13:12:36.934729000 6267334656 ssl_transport_security.cc:1501]    Handshake failed with fatal error SSL_ERROR_SSL: error:0A00010B:SSL routines::wrong version number.\n",
      "E0504 13:13:51.976597000 6261026816 ssl_transport_security.cc:1501]    Handshake failed with fatal error SSL_ERROR_SSL: error:0A00010B:SSL routines::wrong version number.\n",
      "E0504 13:14:46.990426000 6267334656 ssl_transport_security.cc:1501]    Handshake failed with fatal error SSL_ERROR_SSL: error:0A00010B:SSL routines::wrong version number.\n",
      "E0504 13:16:07.042767000 6267334656 ssl_transport_security.cc:1501]    Handshake failed with fatal error SSL_ERROR_SSL: error:0A00010B:SSL routines::wrong version number.\n",
      "E0504 13:16:42.072667000 6261026816 ssl_transport_security.cc:1501]    Handshake failed with fatal error SSL_ERROR_SSL: error:0A00010B:SSL routines::wrong version number.\n",
      "E0504 13:18:12.132138000 6267334656 ssl_transport_security.cc:1501]    Handshake failed with fatal error SSL_ERROR_SSL: error:0A00010B:SSL routines::wrong version number.\n",
      "E0504 13:18:22.138631000 6267334656 ssl_transport_security.cc:1501]    Handshake failed with fatal error SSL_ERROR_SSL: error:0A00010B:SSL routines::wrong version number.\n",
      "E0504 13:20:02.193001000 6261026816 ssl_transport_security.cc:1501]    Handshake failed with fatal error SSL_ERROR_SSL: error:0A00010B:SSL routines::wrong version number.\n",
      "E0504 13:20:32.217008000 6267334656 ssl_transport_security.cc:1501]    Handshake failed with fatal error SSL_ERROR_SSL: error:0A00010B:SSL routines::wrong version number.\n",
      "E0504 13:22:27.296004000 6261026816 ssl_transport_security.cc:1501]    Handshake failed with fatal error SSL_ERROR_SSL: error:0A00010B:SSL routines::wrong version number.\n",
      "E0504 13:22:37.303572000 6261026816 ssl_transport_security.cc:1501]    Handshake failed with fatal error SSL_ERROR_SSL: error:0A00010B:SSL routines::wrong version number.\n",
      "E0504 13:24:37.359640000 6267334656 ssl_transport_security.cc:1501]    Handshake failed with fatal error SSL_ERROR_SSL: error:0A00010B:SSL routines::wrong version number.\n",
      "E0504 13:24:47.370725000 6267334656 ssl_transport_security.cc:1501]    Handshake failed with fatal error SSL_ERROR_SSL: error:0A00010B:SSL routines::wrong version number.\n",
      "E0504 13:26:57.422665000 6267334656 ssl_transport_security.cc:1501]    Handshake failed with fatal error SSL_ERROR_SSL: error:0A00010B:SSL routines::wrong version number.\n",
      "E0504 13:27:07.426843000 6267334656 ssl_transport_security.cc:1501]    Handshake failed with fatal error SSL_ERROR_SSL: error:0A00010B:SSL routines::wrong version number.\n",
      "E0504 13:28:47.488437000 6267334656 ssl_transport_security.cc:1501]    Handshake failed with fatal error SSL_ERROR_SSL: error:0A00010B:SSL routines::wrong version number.\n",
      "E0504 13:29:07.501871000 6267334656 ssl_transport_security.cc:1501]    Handshake failed with fatal error SSL_ERROR_SSL: error:0A00010B:SSL routines::wrong version number.\n",
      "E0504 13:30:37.544656000 6261026816 ssl_transport_security.cc:1501]    Handshake failed with fatal error SSL_ERROR_SSL: error:0A00010B:SSL routines::wrong version number.\n"
     ]
    }
   ],
   "source": [
    "import time\n",
    "\n",
    "for value in range(5):\n",
    "  point = (\n",
    "    Point(\"measurement1\")\n",
    "    .tag(\"tagname3\", \"tagvalue3\")\n",
    "    .field(\"field3\", value)\n",
    "  )\n",
    "  client.write(point)\n",
    "  print(\"wrote\")\n",
    "  time.sleep(1) # separate points by 1 second"
   ]
  },
  {
   "cell_type": "code",
   "execution_count": 32,
   "metadata": {},
   "outputs": [
    {
     "ename": "FlightUnavailableError",
     "evalue": "Flight returned unavailable error, with message: failed to connect to all addresses; last error: UNKNOWN: ipv4:127.0.0.1:8086: Ssl handshake failed: SSL_ERROR_SSL: error:0A00010B:SSL routines::wrong version number. gRPC client debug context: UNKNOWN:failed to connect to all addresses; last error: UNKNOWN: ipv4:127.0.0.1:8086: Ssl handshake failed: SSL_ERROR_SSL: error:0A00010B:SSL routines::wrong version number {grpc_status:14, created_time:\"2024-05-04T04:29:35.805167+02:00\"}. Client context: IOError: Server never sent a data message. Detail: Internal",
     "output_type": "error",
     "traceback": [
      "\u001b[0;31m---------------------------------------------------------------------------\u001b[0m",
      "\u001b[0;31mFlightUnavailableError\u001b[0m                    Traceback (most recent call last)",
      "Cell \u001b[0;32mIn[32], line 2\u001b[0m\n\u001b[1;32m      1\u001b[0m query \u001b[38;5;241m=\u001b[39m \u001b[38;5;124m\"\u001b[39m\u001b[38;5;124mselect * from measurement1\u001b[39m\u001b[38;5;124m\"\u001b[39m\n\u001b[0;32m----> 2\u001b[0m reader \u001b[38;5;241m=\u001b[39m client\u001b[38;5;241m.\u001b[39mquery(query\u001b[38;5;241m=\u001b[39mquery, language\u001b[38;5;241m=\u001b[39m\u001b[38;5;124m\"\u001b[39m\u001b[38;5;124minfluxql\u001b[39m\u001b[38;5;124m\"\u001b[39m)\n\u001b[1;32m      3\u001b[0m table \u001b[38;5;241m=\u001b[39m reader\u001b[38;5;241m.\u001b[39mread_all()\n\u001b[1;32m      4\u001b[0m \u001b[38;5;28mprint\u001b[39m(table\u001b[38;5;241m.\u001b[39mto_pandas()\u001b[38;5;241m.\u001b[39mto_markdown())\n",
      "File \u001b[0;32m~/miniforge3/envs/chaos/lib/python3.10/site-packages/influxdb_client_3/__init__.py:263\u001b[0m, in \u001b[0;36mInfluxDBClient3.query\u001b[0;34m(self, query, language, mode, database, **kwargs)\u001b[0m\n\u001b[1;32m    261\u001b[0m     \u001b[38;5;28;01mreturn\u001b[39;00m mode_func() \u001b[38;5;28;01mif\u001b[39;00m callable(mode_func) \u001b[38;5;28;01melse\u001b[39;00m mode_func\n\u001b[1;32m    262\u001b[0m \u001b[38;5;28;01mexcept\u001b[39;00m \u001b[38;5;167;01mException\u001b[39;00m \u001b[38;5;28;01mas\u001b[39;00m e:\n\u001b[0;32m--> 263\u001b[0m     \u001b[38;5;28;01mraise\u001b[39;00m e\n",
      "File \u001b[0;32m~/miniforge3/envs/chaos/lib/python3.10/site-packages/influxdb_client_3/__init__.py:249\u001b[0m, in \u001b[0;36mInfluxDBClient3.query\u001b[0;34m(self, query, language, mode, database, **kwargs)\u001b[0m\n\u001b[1;32m    247\u001b[0m ticket_data \u001b[38;5;241m=\u001b[39m {\u001b[38;5;124m\"\u001b[39m\u001b[38;5;124mdatabase\u001b[39m\u001b[38;5;124m\"\u001b[39m: database, \u001b[38;5;124m\"\u001b[39m\u001b[38;5;124msql_query\u001b[39m\u001b[38;5;124m\"\u001b[39m: query, \u001b[38;5;124m\"\u001b[39m\u001b[38;5;124mquery_type\u001b[39m\u001b[38;5;124m\"\u001b[39m: language}\n\u001b[1;32m    248\u001b[0m ticket \u001b[38;5;241m=\u001b[39m Ticket(json\u001b[38;5;241m.\u001b[39mdumps(ticket_data)\u001b[38;5;241m.\u001b[39mencode(\u001b[38;5;124m'\u001b[39m\u001b[38;5;124mutf-8\u001b[39m\u001b[38;5;124m'\u001b[39m))\n\u001b[0;32m--> 249\u001b[0m flight_reader \u001b[38;5;241m=\u001b[39m \u001b[38;5;28;43mself\u001b[39;49m\u001b[38;5;241;43m.\u001b[39;49m\u001b[43m_flight_client\u001b[49m\u001b[38;5;241;43m.\u001b[39;49m\u001b[43mdo_get\u001b[49m\u001b[43m(\u001b[49m\u001b[43mticket\u001b[49m\u001b[43m,\u001b[49m\u001b[43m \u001b[49m\u001b[43m_options\u001b[49m\u001b[43m)\u001b[49m\n\u001b[1;32m    251\u001b[0m mode_func \u001b[38;5;241m=\u001b[39m {\n\u001b[1;32m    252\u001b[0m     \u001b[38;5;124m\"\u001b[39m\u001b[38;5;124mall\u001b[39m\u001b[38;5;124m\"\u001b[39m: flight_reader\u001b[38;5;241m.\u001b[39mread_all,\n\u001b[1;32m    253\u001b[0m     \u001b[38;5;124m\"\u001b[39m\u001b[38;5;124mpandas\u001b[39m\u001b[38;5;124m\"\u001b[39m: flight_reader\u001b[38;5;241m.\u001b[39mread_pandas,\n\u001b[0;32m   (...)\u001b[0m\n\u001b[1;32m    258\u001b[0m \n\u001b[1;32m    259\u001b[0m }\u001b[38;5;241m.\u001b[39mget(mode, flight_reader\u001b[38;5;241m.\u001b[39mread_all)\n\u001b[1;32m    261\u001b[0m \u001b[38;5;28;01mreturn\u001b[39;00m mode_func() \u001b[38;5;28;01mif\u001b[39;00m callable(mode_func) \u001b[38;5;28;01melse\u001b[39;00m mode_func\n",
      "File \u001b[0;32m~/miniforge3/envs/chaos/lib/python3.10/site-packages/pyarrow/_flight.pyx:1633\u001b[0m, in \u001b[0;36mpyarrow._flight.FlightClient.do_get\u001b[0;34m()\u001b[0m\n",
      "File \u001b[0;32m~/miniforge3/envs/chaos/lib/python3.10/site-packages/pyarrow/_flight.pyx:68\u001b[0m, in \u001b[0;36mpyarrow._flight.check_flight_status\u001b[0;34m()\u001b[0m\n",
      "\u001b[0;31mFlightUnavailableError\u001b[0m: Flight returned unavailable error, with message: failed to connect to all addresses; last error: UNKNOWN: ipv4:127.0.0.1:8086: Ssl handshake failed: SSL_ERROR_SSL: error:0A00010B:SSL routines::wrong version number. gRPC client debug context: UNKNOWN:failed to connect to all addresses; last error: UNKNOWN: ipv4:127.0.0.1:8086: Ssl handshake failed: SSL_ERROR_SSL: error:0A00010B:SSL routines::wrong version number {grpc_status:14, created_time:\"2024-05-04T04:29:35.805167+02:00\"}. Client context: IOError: Server never sent a data message. Detail: Internal"
     ]
    },
    {
     "name": "stderr",
     "output_type": "stream",
     "text": [
      "E0504 04:29:41.814677000 6261026816 ssl_transport_security.cc:1501]    Handshake failed with fatal error SSL_ERROR_SSL: error:0A00010B:SSL routines::wrong version number.\n"
     ]
    }
   ],
   "source": [
    "query = \"select * from measurement1\"\n",
    "reader = client.query(query=query, language=\"influxql\")\n",
    "table = reader.read_all()\n",
    "print(table.to_pandas().to_markdown())"
   ]
  }
 ],
 "metadata": {
  "kernelspec": {
   "display_name": "chaos",
   "language": "python",
   "name": "python3"
  },
  "language_info": {
   "codemirror_mode": {
    "name": "ipython",
    "version": 3
   },
   "file_extension": ".py",
   "mimetype": "text/x-python",
   "name": "python",
   "nbconvert_exporter": "python",
   "pygments_lexer": "ipython3",
   "version": "3.10.6"
  }
 },
 "nbformat": 4,
 "nbformat_minor": 2
}
