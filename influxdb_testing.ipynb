{
 "cells": [
  {
   "cell_type": "code",
   "execution_count": 3,
   "metadata": {},
   "outputs": [],
   "source": [
    "!export INFLUXDB_TOKEN=-4jIK4uJ0tX4gN3JiDC8CzQEVyXZRiyQ6axr0QuHFQvoXXcnMUwj6InzndgYeFn_ScFkUu9KXaQZlD9NKO4oKQ=="
   ]
  },
  {
   "cell_type": "code",
   "execution_count": 20,
   "metadata": {},
   "outputs": [],
   "source": [
    "from influxdb_client_3 import InfluxDBClient3, Point"
   ]
  },
  {
   "cell_type": "code",
   "execution_count": 25,
   "metadata": {},
   "outputs": [],
   "source": [
    "client = InfluxDBClient3(token=\"ygYcYy950HBz1C1oj2oD6LUBfOyl-WiwkC47xiUPDfmJby3dv1DPlldTACZ1SXrJXjSoH97TZxNUcGKY5-XFdw==\",\n",
    "                         host=\"http://localhost:8086\",\n",
    "                         org=\"slapslap_organization\",\n",
    "                         database=\"slapslap_bucket\")"
   ]
  },
  {
   "cell_type": "code",
   "execution_count": 26,
   "metadata": {},
   "outputs": [],
   "source": [
    "point = Point(\"measurement\").tag(\"location\", \"london\").field(\"temperature\", 42)\n",
    "client.write(point)"
   ]
  },
  {
   "cell_type": "code",
   "execution_count": 33,
   "metadata": {},
   "outputs": [
    {
     "name": "stderr",
     "output_type": "stream",
     "text": [
      "E0504 04:29:51.821020000 6261026816 ssl_transport_security.cc:1501]    Handshake failed with fatal error SSL_ERROR_SSL: error:0A00010B:SSL routines::wrong version number.\n",
      "E0504 04:30:01.829567000 6267334656 ssl_transport_security.cc:1501]    Handshake failed with fatal error SSL_ERROR_SSL: error:0A00010B:SSL routines::wrong version number.\n",
      "E0504 04:30:01.830045000 6267334656 ssl_transport_security.cc:1501]    Handshake failed with fatal error SSL_ERROR_SSL: error:0A00010B:SSL routines::wrong version number.\n",
      "E0504 04:30:11.839194000 6267334656 ssl_transport_security.cc:1501]    Handshake failed with fatal error SSL_ERROR_SSL: error:0A00010B:SSL routines::wrong version number.\n",
      "E0504 04:30:21.847352000 6267334656 ssl_transport_security.cc:1501]    Handshake failed with fatal error SSL_ERROR_SSL: error:0A00010B:SSL routines::wrong version number.\n",
      "E0504 04:30:31.851656000 6261026816 ssl_transport_security.cc:1501]    Handshake failed with fatal error SSL_ERROR_SSL: error:0A00010B:SSL routines::wrong version number.\n",
      "E0504 04:30:31.851917000 6261026816 ssl_transport_security.cc:1501]    Handshake failed with fatal error SSL_ERROR_SSL: error:0A00010B:SSL routines::wrong version number.\n",
      "E0504 04:30:41.861636000 6261026816 ssl_transport_security.cc:1501]    Handshake failed with fatal error SSL_ERROR_SSL: error:0A00010B:SSL routines::wrong version number.\n",
      "E0504 04:30:51.868593000 6261026816 ssl_transport_security.cc:1501]    Handshake failed with fatal error SSL_ERROR_SSL: error:0A00010B:SSL routines::wrong version number.\n",
      "E0504 04:31:01.875255000 6267334656 ssl_transport_security.cc:1501]    Handshake failed with fatal error SSL_ERROR_SSL: error:0A00010B:SSL routines::wrong version number.\n",
      "E0504 04:31:01.875821000 6267334656 ssl_transport_security.cc:1501]    Handshake failed with fatal error SSL_ERROR_SSL: error:0A00010B:SSL routines::wrong version number.\n",
      "E0504 04:31:11.885383000 6261026816 ssl_transport_security.cc:1501]    Handshake failed with fatal error SSL_ERROR_SSL: error:0A00010B:SSL routines::wrong version number.\n",
      "E0504 04:31:21.892184000 6261026816 ssl_transport_security.cc:1501]    Handshake failed with fatal error SSL_ERROR_SSL: error:0A00010B:SSL routines::wrong version number.\n",
      "E0504 04:31:31.894584000 6267334656 ssl_transport_security.cc:1501]    Handshake failed with fatal error SSL_ERROR_SSL: error:0A00010B:SSL routines::wrong version number.\n",
      "E0504 04:31:31.894820000 6267334656 ssl_transport_security.cc:1501]    Handshake failed with fatal error SSL_ERROR_SSL: error:0A00010B:SSL routines::wrong version number.\n",
      "E0504 04:31:41.904743000 6267334656 ssl_transport_security.cc:1501]    Handshake failed with fatal error SSL_ERROR_SSL: error:0A00010B:SSL routines::wrong version number.\n",
      "E0504 04:31:51.915085000 6267334656 ssl_transport_security.cc:1501]    Handshake failed with fatal error SSL_ERROR_SSL: error:0A00010B:SSL routines::wrong version number.\n",
      "E0504 04:32:01.924718000 6261026816 ssl_transport_security.cc:1501]    Handshake failed with fatal error SSL_ERROR_SSL: error:0A00010B:SSL routines::wrong version number.\n",
      "E0504 04:32:01.924871000 6261026816 ssl_transport_security.cc:1501]    Handshake failed with fatal error SSL_ERROR_SSL: error:0A00010B:SSL routines::wrong version number.\n",
      "E0504 04:32:11.932342000 6261026816 ssl_transport_security.cc:1501]    Handshake failed with fatal error SSL_ERROR_SSL: error:0A00010B:SSL routines::wrong version number.\n",
      "E0504 04:32:21.936999000 6261026816 ssl_transport_security.cc:1501]    Handshake failed with fatal error SSL_ERROR_SSL: error:0A00010B:SSL routines::wrong version number.\n",
      "E0504 04:32:31.943400000 6267334656 ssl_transport_security.cc:1501]    Handshake failed with fatal error SSL_ERROR_SSL: error:0A00010B:SSL routines::wrong version number.\n",
      "E0504 04:32:46.951738000 6261026816 ssl_transport_security.cc:1501]    Handshake failed with fatal error SSL_ERROR_SSL: error:0A00010B:SSL routines::wrong version number.\n",
      "E0504 04:32:56.956526000 6261026816 ssl_transport_security.cc:1501]    Handshake failed with fatal error SSL_ERROR_SSL: error:0A00010B:SSL routines::wrong version number.\n",
      "E0504 04:33:41.965751000 6261026816 ssl_transport_security.cc:1501]    Handshake failed with fatal error SSL_ERROR_SSL: error:0A00010B:SSL routines::wrong version number.\n",
      "E0504 04:33:51.967976000 6261026816 ssl_transport_security.cc:1501]    Handshake failed with fatal error SSL_ERROR_SSL: error:0A00010B:SSL routines::wrong version number.\n",
      "E0504 04:34:41.996956000 6261026816 ssl_transport_security.cc:1501]    Handshake failed with fatal error SSL_ERROR_SSL: error:0A00010B:SSL routines::wrong version number.\n",
      "E0504 04:34:52.004476000 6261026816 ssl_transport_security.cc:1501]    Handshake failed with fatal error SSL_ERROR_SSL: error:0A00010B:SSL routines::wrong version number.\n",
      "E0504 04:36:27.111265000 6261026816 ssl_transport_security.cc:1501]    Handshake failed with fatal error SSL_ERROR_SSL: error:0A00010B:SSL routines::wrong version number.\n",
      "E0504 04:36:57.127000000 6261026816 ssl_transport_security.cc:1501]    Handshake failed with fatal error SSL_ERROR_SSL: error:0A00010B:SSL routines::wrong version number.\n",
      "E0504 04:38:27.195657000 6261026816 ssl_transport_security.cc:1501]    Handshake failed with fatal error SSL_ERROR_SSL: error:0A00010B:SSL routines::wrong version number.\n",
      "E0504 04:39:07.216397000 6261026816 ssl_transport_security.cc:1501]    Handshake failed with fatal error SSL_ERROR_SSL: error:0A00010B:SSL routines::wrong version number.\n",
      "E0504 04:40:17.264748000 6261026816 ssl_transport_security.cc:1501]    Handshake failed with fatal error SSL_ERROR_SSL: error:0A00010B:SSL routines::wrong version number.\n",
      "E0504 04:40:57.299478000 6261026816 ssl_transport_security.cc:1501]    Handshake failed with fatal error SSL_ERROR_SSL: error:0A00010B:SSL routines::wrong version number.\n",
      "E0504 04:42:17.340552000 6267334656 ssl_transport_security.cc:1501]    Handshake failed with fatal error SSL_ERROR_SSL: error:0A00010B:SSL routines::wrong version number.\n",
      "E0504 04:43:07.373832000 6261026816 ssl_transport_security.cc:1501]    Handshake failed with fatal error SSL_ERROR_SSL: error:0A00010B:SSL routines::wrong version number.\n",
      "E0504 04:44:12.408255000 6267334656 ssl_transport_security.cc:1501]    Handshake failed with fatal error SSL_ERROR_SSL: error:0A00010B:SSL routines::wrong version number.\n",
      "E0504 04:45:22.458561000 6261026816 ssl_transport_security.cc:1501]    Handshake failed with fatal error SSL_ERROR_SSL: error:0A00010B:SSL routines::wrong version number.\n",
      "E0504 04:46:12.501601000 6267334656 ssl_transport_security.cc:1501]    Handshake failed with fatal error SSL_ERROR_SSL: error:0A00010B:SSL routines::wrong version number.\n",
      "E0504 04:47:47.592341000 6261026816 ssl_transport_security.cc:1501]    Handshake failed with fatal error SSL_ERROR_SSL: error:0A00010B:SSL routines::wrong version number.\n",
      "E0504 04:48:17.639497000 6261026816 ssl_transport_security.cc:1501]    Handshake failed with fatal error SSL_ERROR_SSL: error:0A00010B:SSL routines::wrong version number.\n",
      "E0504 04:49:47.763148000 6261026816 ssl_transport_security.cc:1501]    Handshake failed with fatal error SSL_ERROR_SSL: error:0A00010B:SSL routines::wrong version number.\n",
      "E0504 05:00:00.853239000 6267334656 ssl_transport_security.cc:1501]    Handshake failed with fatal error SSL_ERROR_SSL: error:0A00010B:SSL routines::wrong version number.\n",
      "E0504 06:16:35.958905000 6261026816 ssl_transport_security.cc:1501]    Handshake failed with fatal error SSL_ERROR_SSL: error:0A00010B:SSL routines::wrong version number.\n",
      "E0504 06:48:14.920865000 6261026816 ssl_transport_security.cc:1501]    Handshake failed with fatal error SSL_ERROR_SSL: error:0A00010B:SSL routines::wrong version number.\n",
      "E0504 09:10:26.077242000 6261026816 ssl_transport_security.cc:1501]    Handshake failed with fatal error SSL_ERROR_SSL: error:0A00010B:SSL routines::wrong version number.\n",
      "E0504 09:10:36.086323000 6261026816 ssl_transport_security.cc:1501]    Handshake failed with fatal error SSL_ERROR_SSL: error:0A00010B:SSL routines::wrong version number.\n",
      "E0504 09:12:01.132958000 6267334656 ssl_transport_security.cc:1501]    Handshake failed with fatal error SSL_ERROR_SSL: error:0A00010B:SSL routines::wrong version number.\n",
      "E0504 09:12:46.160631000 6267334656 ssl_transport_security.cc:1501]    Handshake failed with fatal error SSL_ERROR_SSL: error:0A00010B:SSL routines::wrong version number.\n",
      "E0504 09:14:16.230722000 6261026816 ssl_transport_security.cc:1501]    Handshake failed with fatal error SSL_ERROR_SSL: error:0A00010B:SSL routines::wrong version number.\n",
      "E0504 09:15:01.265334000 6267334656 ssl_transport_security.cc:1501]    Handshake failed with fatal error SSL_ERROR_SSL: error:0A00010B:SSL routines::wrong version number.\n",
      "E0504 09:16:21.324683000 6261026816 ssl_transport_security.cc:1501]    Handshake failed with fatal error SSL_ERROR_SSL: error:0A00010B:SSL routines::wrong version number.\n",
      "E0504 09:17:16.366686000 6261026816 ssl_transport_security.cc:1501]    Handshake failed with fatal error SSL_ERROR_SSL: error:0A00010B:SSL routines::wrong version number.\n",
      "E0504 09:18:26.411189000 6261026816 ssl_transport_security.cc:1501]    Handshake failed with fatal error SSL_ERROR_SSL: error:0A00010B:SSL routines::wrong version number.\n",
      "E0504 09:19:31.459685000 6267334656 ssl_transport_security.cc:1501]    Handshake failed with fatal error SSL_ERROR_SSL: error:0A00010B:SSL routines::wrong version number.\n",
      "E0504 09:20:01.482898000 6267334656 ssl_transport_security.cc:1501]    Handshake failed with fatal error SSL_ERROR_SSL: error:0A00010B:SSL routines::wrong version number.\n",
      "E0504 09:21:11.530161000 6261026816 ssl_transport_security.cc:1501]    Handshake failed with fatal error SSL_ERROR_SSL: error:0A00010B:SSL routines::wrong version number.\n",
      "E0504 09:21:56.563876000 6267334656 ssl_transport_security.cc:1501]    Handshake failed with fatal error SSL_ERROR_SSL: error:0A00010B:SSL routines::wrong version number.\n",
      "E0504 09:23:11.604670000 6267334656 ssl_transport_security.cc:1501]    Handshake failed with fatal error SSL_ERROR_SSL: error:0A00010B:SSL routines::wrong version number.\n",
      "E0504 09:23:41.626154000 6267334656 ssl_transport_security.cc:1501]    Handshake failed with fatal error SSL_ERROR_SSL: error:0A00010B:SSL routines::wrong version number.\n",
      "E0504 09:25:26.666342000 6267334656 ssl_transport_security.cc:1501]    Handshake failed with fatal error SSL_ERROR_SSL: error:0A00010B:SSL routines::wrong version number.\n",
      "E0504 09:25:41.679099000 6261026816 ssl_transport_security.cc:1501]    Handshake failed with fatal error SSL_ERROR_SSL: error:0A00010B:SSL routines::wrong version number.\n",
      "E0504 10:04:57.563060000 6261026816 ssl_transport_security.cc:1501]    Handshake failed with fatal error SSL_ERROR_SSL: error:0A00010B:SSL routines::wrong version number.\n",
      "E0504 10:07:32.126258000 6261026816 ssl_transport_security.cc:1501]    Handshake failed with fatal error SSL_ERROR_SSL: error:0A00010B:SSL routines::wrong version number.\n",
      "E0504 10:17:41.246087000 6267334656 ssl_transport_security.cc:1501]    Handshake failed with fatal error SSL_ERROR_SSL: error:0A00010B:SSL routines::wrong version number.\n",
      "E0504 10:17:51.261678000 6267334656 ssl_transport_security.cc:1501]    Handshake failed with fatal error SSL_ERROR_SSL: error:0A00010B:SSL routines::wrong version number.\n",
      "E0504 10:19:41.326530000 6267334656 ssl_transport_security.cc:1501]    Handshake failed with fatal error SSL_ERROR_SSL: error:0A00010B:SSL routines::wrong version number.\n",
      "E0504 10:19:51.330017000 6267334656 ssl_transport_security.cc:1501]    Handshake failed with fatal error SSL_ERROR_SSL: error:0A00010B:SSL routines::wrong version number.\n",
      "E0504 10:21:41.397121000 6261026816 ssl_transport_security.cc:1501]    Handshake failed with fatal error SSL_ERROR_SSL: error:0A00010B:SSL routines::wrong version number.\n",
      "E0504 10:22:01.407957000 6267334656 ssl_transport_security.cc:1501]    Handshake failed with fatal error SSL_ERROR_SSL: error:0A00010B:SSL routines::wrong version number.\n",
      "E0504 10:23:31.460456000 6261026816 ssl_transport_security.cc:1501]    Handshake failed with fatal error SSL_ERROR_SSL: error:0A00010B:SSL routines::wrong version number.\n",
      "E0504 10:23:41.466637000 6261026816 ssl_transport_security.cc:1501]    Handshake failed with fatal error SSL_ERROR_SSL: error:0A00010B:SSL routines::wrong version number.\n",
      "E0504 10:25:41.532591000 6267334656 ssl_transport_security.cc:1501]    Handshake failed with fatal error SSL_ERROR_SSL: error:0A00010B:SSL routines::wrong version number.\n",
      "E0504 10:25:51.543076000 6267334656 ssl_transport_security.cc:1501]    Handshake failed with fatal error SSL_ERROR_SSL: error:0A00010B:SSL routines::wrong version number.\n",
      "E0504 10:28:06.674521000 6261026816 ssl_transport_security.cc:1501]    Handshake failed with fatal error SSL_ERROR_SSL: error:0A00010B:SSL routines::wrong version number.\n",
      "E0504 10:28:16.683926000 6261026816 ssl_transport_security.cc:1501]    Handshake failed with fatal error SSL_ERROR_SSL: error:0A00010B:SSL routines::wrong version number.\n",
      "E0504 10:29:56.741800000 6267334656 ssl_transport_security.cc:1501]    Handshake failed with fatal error SSL_ERROR_SSL: error:0A00010B:SSL routines::wrong version number.\n",
      "E0504 10:30:16.761769000 6267334656 ssl_transport_security.cc:1501]    Handshake failed with fatal error SSL_ERROR_SSL: error:0A00010B:SSL routines::wrong version number.\n",
      "E0504 10:32:16.852457000 6267334656 ssl_transport_security.cc:1501]    Handshake failed with fatal error SSL_ERROR_SSL: error:0A00010B:SSL routines::wrong version number.\n",
      "E0504 10:32:41.877837000 6261026816 ssl_transport_security.cc:1501]    Handshake failed with fatal error SSL_ERROR_SSL: error:0A00010B:SSL routines::wrong version number.\n",
      "E0504 10:34:21.952240000 6261026816 ssl_transport_security.cc:1501]    Handshake failed with fatal error SSL_ERROR_SSL: error:0A00010B:SSL routines::wrong version number.\n",
      "E0504 10:34:31.954315000 6261026816 ssl_transport_security.cc:1501]    Handshake failed with fatal error SSL_ERROR_SSL: error:0A00010B:SSL routines::wrong version number.\n",
      "E0504 10:35:57.014755000 6267334656 ssl_transport_security.cc:1501]    Handshake failed with fatal error SSL_ERROR_SSL: error:0A00010B:SSL routines::wrong version number.\n",
      "E0504 10:36:17.029788000 6267334656 ssl_transport_security.cc:1501]    Handshake failed with fatal error SSL_ERROR_SSL: error:0A00010B:SSL routines::wrong version number.\n",
      "E0504 10:38:02.108443000 6261026816 ssl_transport_security.cc:1501]    Handshake failed with fatal error SSL_ERROR_SSL: error:0A00010B:SSL routines::wrong version number.\n",
      "E0504 10:38:12.114682000 6261026816 ssl_transport_security.cc:1501]    Handshake failed with fatal error SSL_ERROR_SSL: error:0A00010B:SSL routines::wrong version number.\n",
      "E0504 10:40:12.199892000 6261026816 ssl_transport_security.cc:1501]    Handshake failed with fatal error SSL_ERROR_SSL: error:0A00010B:SSL routines::wrong version number.\n",
      "E0504 10:40:22.203364000 6261026816 ssl_transport_security.cc:1501]    Handshake failed with fatal error SSL_ERROR_SSL: error:0A00010B:SSL routines::wrong version number.\n",
      "E0504 10:42:27.283515000 6267334656 ssl_transport_security.cc:1501]    Handshake failed with fatal error SSL_ERROR_SSL: error:0A00010B:SSL routines::wrong version number.\n",
      "E0504 10:42:37.290399000 6267334656 ssl_transport_security.cc:1501]    Handshake failed with fatal error SSL_ERROR_SSL: error:0A00010B:SSL routines::wrong version number.\n",
      "E0504 10:44:12.352000000 6261026816 ssl_transport_security.cc:1501]    Handshake failed with fatal error SSL_ERROR_SSL: error:0A00010B:SSL routines::wrong version number.\n",
      "E0504 10:44:22.359383000 6261026816 ssl_transport_security.cc:1501]    Handshake failed with fatal error SSL_ERROR_SSL: error:0A00010B:SSL routines::wrong version number.\n",
      "E0504 10:45:57.434499000 6261026816 ssl_transport_security.cc:1501]    Handshake failed with fatal error SSL_ERROR_SSL: error:0A00010B:SSL routines::wrong version number.\n",
      "E0504 10:46:22.452517000 6267334656 ssl_transport_security.cc:1501]    Handshake failed with fatal error SSL_ERROR_SSL: error:0A00010B:SSL routines::wrong version number.\n",
      "E0504 10:48:07.517116000 6267334656 ssl_transport_security.cc:1501]    Handshake failed with fatal error SSL_ERROR_SSL: error:0A00010B:SSL routines::wrong version number.\n",
      "E0504 10:48:22.528800000 6261026816 ssl_transport_security.cc:1501]    Handshake failed with fatal error SSL_ERROR_SSL: error:0A00010B:SSL routines::wrong version number.\n",
      "E0504 10:49:52.587236000 6261026816 ssl_transport_security.cc:1501]    Handshake failed with fatal error SSL_ERROR_SSL: error:0A00010B:SSL routines::wrong version number.\n",
      "E0504 10:50:17.605936000 6261026816 ssl_transport_security.cc:1501]    Handshake failed with fatal error SSL_ERROR_SSL: error:0A00010B:SSL routines::wrong version number.\n",
      "E0504 10:52:12.693402000 6267334656 ssl_transport_security.cc:1501]    Handshake failed with fatal error SSL_ERROR_SSL: error:0A00010B:SSL routines::wrong version number.\n",
      "E0504 10:52:22.696539000 6267334656 ssl_transport_security.cc:1501]    Handshake failed with fatal error SSL_ERROR_SSL: error:0A00010B:SSL routines::wrong version number.\n",
      "E0504 10:53:47.728465000 6267334656 ssl_transport_security.cc:1501]    Handshake failed with fatal error SSL_ERROR_SSL: error:0A00010B:SSL routines::wrong version number.\n",
      "E0504 10:54:27.748232000 6267334656 ssl_transport_security.cc:1501]    Handshake failed with fatal error SSL_ERROR_SSL: error:0A00010B:SSL routines::wrong version number.\n",
      "E0504 10:55:42.781082000 6261026816 ssl_transport_security.cc:1501]    Handshake failed with fatal error SSL_ERROR_SSL: error:0A00010B:SSL routines::wrong version number.\n",
      "E0504 10:56:32.817597000 6261026816 ssl_transport_security.cc:1501]    Handshake failed with fatal error SSL_ERROR_SSL: error:0A00010B:SSL routines::wrong version number.\n",
      "E0504 10:57:47.860502000 6261026816 ssl_transport_security.cc:1501]    Handshake failed with fatal error SSL_ERROR_SSL: error:0A00010B:SSL routines::wrong version number.\n",
      "E0504 10:58:52.907394000 6261026816 ssl_transport_security.cc:1501]    Handshake failed with fatal error SSL_ERROR_SSL: error:0A00010B:SSL routines::wrong version number.\n",
      "E0504 11:00:02.962910000 6261026816 ssl_transport_security.cc:1501]    Handshake failed with fatal error SSL_ERROR_SSL: error:0A00010B:SSL routines::wrong version number.\n",
      "E0504 11:01:03.021458000 6261026816 ssl_transport_security.cc:1501]    Handshake failed with fatal error SSL_ERROR_SSL: error:0A00010B:SSL routines::wrong version number.\n",
      "E0504 11:01:53.052687000 6261026816 ssl_transport_security.cc:1501]    Handshake failed with fatal error SSL_ERROR_SSL: error:0A00010B:SSL routines::wrong version number.\n",
      "E0504 11:03:13.105178000 6261026816 ssl_transport_security.cc:1501]    Handshake failed with fatal error SSL_ERROR_SSL: error:0A00010B:SSL routines::wrong version number.\n",
      "E0504 11:04:03.139223000 6261026816 ssl_transport_security.cc:1501]    Handshake failed with fatal error SSL_ERROR_SSL: error:0A00010B:SSL routines::wrong version number.\n",
      "E0504 11:05:33.208610000 6261026816 ssl_transport_security.cc:1501]    Handshake failed with fatal error SSL_ERROR_SSL: error:0A00010B:SSL routines::wrong version number.\n",
      "E0504 11:06:18.234637000 6267334656 ssl_transport_security.cc:1501]    Handshake failed with fatal error SSL_ERROR_SSL: error:0A00010B:SSL routines::wrong version number.\n",
      "E0504 11:07:28.286463000 6267334656 ssl_transport_security.cc:1501]    Handshake failed with fatal error SSL_ERROR_SSL: error:0A00010B:SSL routines::wrong version number.\n",
      "E0504 11:07:58.311181000 6267334656 ssl_transport_security.cc:1501]    Handshake failed with fatal error SSL_ERROR_SSL: error:0A00010B:SSL routines::wrong version number.\n",
      "E0504 11:09:13.332772000 6261026816 ssl_transport_security.cc:1501]    Handshake failed with fatal error SSL_ERROR_SSL: error:0A00010B:SSL routines::wrong version number.\n",
      "E0504 11:10:13.378752000 6261026816 ssl_transport_security.cc:1501]    Handshake failed with fatal error SSL_ERROR_SSL: error:0A00010B:SSL routines::wrong version number.\n",
      "E0504 11:11:03.411135000 6261026816 ssl_transport_security.cc:1501]    Handshake failed with fatal error SSL_ERROR_SSL: error:0A00010B:SSL routines::wrong version number.\n",
      "E0504 11:12:13.467558000 6267334656 ssl_transport_security.cc:1501]    Handshake failed with fatal error SSL_ERROR_SSL: error:0A00010B:SSL routines::wrong version number.\n",
      "E0504 11:13:23.516652000 6267334656 ssl_transport_security.cc:1501]    Handshake failed with fatal error SSL_ERROR_SSL: error:0A00010B:SSL routines::wrong version number.\n",
      "E0504 11:14:13.549582000 6267334656 ssl_transport_security.cc:1501]    Handshake failed with fatal error SSL_ERROR_SSL: error:0A00010B:SSL routines::wrong version number.\n",
      "E0504 11:15:18.588959000 6261026816 ssl_transport_security.cc:1501]    Handshake failed with fatal error SSL_ERROR_SSL: error:0A00010B:SSL routines::wrong version number.\n",
      "E0504 11:16:03.629605000 6267334656 ssl_transport_security.cc:1501]    Handshake failed with fatal error SSL_ERROR_SSL: error:0A00010B:SSL routines::wrong version number.\n",
      "E0504 11:17:38.698989000 6261026816 ssl_transport_security.cc:1501]    Handshake failed with fatal error SSL_ERROR_SSL: error:0A00010B:SSL routines::wrong version number.\n",
      "E0504 11:18:18.731736000 6261026816 ssl_transport_security.cc:1501]    Handshake failed with fatal error SSL_ERROR_SSL: error:0A00010B:SSL routines::wrong version number.\n",
      "E0504 11:19:48.801702000 6261026816 ssl_transport_security.cc:1501]    Handshake failed with fatal error SSL_ERROR_SSL: error:0A00010B:SSL routines::wrong version number.\n",
      "E0504 11:20:18.825848000 6261026816 ssl_transport_security.cc:1501]    Handshake failed with fatal error SSL_ERROR_SSL: error:0A00010B:SSL routines::wrong version number.\n",
      "E0504 11:22:03.895696000 6261026816 ssl_transport_security.cc:1501]    Handshake failed with fatal error SSL_ERROR_SSL: error:0A00010B:SSL routines::wrong version number.\n",
      "E0504 11:22:18.909788000 6267334656 ssl_transport_security.cc:1501]    Handshake failed with fatal error SSL_ERROR_SSL: error:0A00010B:SSL routines::wrong version number.\n",
      "E0504 11:23:43.958940000 6261026816 ssl_transport_security.cc:1501]    Handshake failed with fatal error SSL_ERROR_SSL: error:0A00010B:SSL routines::wrong version number.\n",
      "E0504 11:24:03.973303000 6267334656 ssl_transport_security.cc:1501]    Handshake failed with fatal error SSL_ERROR_SSL: error:0A00010B:SSL routines::wrong version number.\n",
      "E0504 11:25:54.135091000 6267334656 ssl_transport_security.cc:1501]    Handshake failed with fatal error SSL_ERROR_SSL: error:0A00010B:SSL routines::wrong version number.\n",
      "E0504 11:26:04.145891000 6267334656 ssl_transport_security.cc:1501]    Handshake failed with fatal error SSL_ERROR_SSL: error:0A00010B:SSL routines::wrong version number.\n",
      "E0504 11:27:39.222491000 6267334656 ssl_transport_security.cc:1501]    Handshake failed with fatal error SSL_ERROR_SSL: error:0A00010B:SSL routines::wrong version number.\n",
      "E0504 11:28:09.243701000 6267334656 ssl_transport_security.cc:1501]    Handshake failed with fatal error SSL_ERROR_SSL: error:0A00010B:SSL routines::wrong version number.\n",
      "E0504 11:29:54.322909000 6261026816 ssl_transport_security.cc:1501]    Handshake failed with fatal error SSL_ERROR_SSL: error:0A00010B:SSL routines::wrong version number.\n",
      "E0504 11:30:29.347806000 6267334656 ssl_transport_security.cc:1501]    Handshake failed with fatal error SSL_ERROR_SSL: error:0A00010B:SSL routines::wrong version number.\n",
      "E0504 11:31:54.412134000 6267334656 ssl_transport_security.cc:1501]    Handshake failed with fatal error SSL_ERROR_SSL: error:0A00010B:SSL routines::wrong version number.\n",
      "E0504 11:32:44.452424000 6261026816 ssl_transport_security.cc:1501]    Handshake failed with fatal error SSL_ERROR_SSL: error:0A00010B:SSL routines::wrong version number.\n",
      "E0504 11:33:44.492259000 6267334656 ssl_transport_security.cc:1501]    Handshake failed with fatal error SSL_ERROR_SSL: error:0A00010B:SSL routines::wrong version number.\n",
      "E0504 11:35:04.552802000 6267334656 ssl_transport_security.cc:1501]    Handshake failed with fatal error SSL_ERROR_SSL: error:0A00010B:SSL routines::wrong version number.\n"
     ]
    }
   ],
   "source": [
    "import time\n",
    "\n",
    "for value in range(5):\n",
    "  point = (\n",
    "    Point(\"measurement1\")\n",
    "    .tag(\"tagname1\", \"tagvalue1\")\n",
    "    .field(\"field1\", value)\n",
    "  )\n",
    "  client.write(point)\n",
    "  time.sleep(1) # separate points by 1 second"
   ]
  },
  {
   "cell_type": "code",
   "execution_count": 32,
   "metadata": {},
   "outputs": [
    {
     "ename": "FlightUnavailableError",
     "evalue": "Flight returned unavailable error, with message: failed to connect to all addresses; last error: UNKNOWN: ipv4:127.0.0.1:8086: Ssl handshake failed: SSL_ERROR_SSL: error:0A00010B:SSL routines::wrong version number. gRPC client debug context: UNKNOWN:failed to connect to all addresses; last error: UNKNOWN: ipv4:127.0.0.1:8086: Ssl handshake failed: SSL_ERROR_SSL: error:0A00010B:SSL routines::wrong version number {grpc_status:14, created_time:\"2024-05-04T04:29:35.805167+02:00\"}. Client context: IOError: Server never sent a data message. Detail: Internal",
     "output_type": "error",
     "traceback": [
      "\u001b[0;31m---------------------------------------------------------------------------\u001b[0m",
      "\u001b[0;31mFlightUnavailableError\u001b[0m                    Traceback (most recent call last)",
      "Cell \u001b[0;32mIn[32], line 2\u001b[0m\n\u001b[1;32m      1\u001b[0m query \u001b[38;5;241m=\u001b[39m \u001b[38;5;124m\"\u001b[39m\u001b[38;5;124mselect * from measurement1\u001b[39m\u001b[38;5;124m\"\u001b[39m\n\u001b[0;32m----> 2\u001b[0m reader \u001b[38;5;241m=\u001b[39m client\u001b[38;5;241m.\u001b[39mquery(query\u001b[38;5;241m=\u001b[39mquery, language\u001b[38;5;241m=\u001b[39m\u001b[38;5;124m\"\u001b[39m\u001b[38;5;124minfluxql\u001b[39m\u001b[38;5;124m\"\u001b[39m)\n\u001b[1;32m      3\u001b[0m table \u001b[38;5;241m=\u001b[39m reader\u001b[38;5;241m.\u001b[39mread_all()\n\u001b[1;32m      4\u001b[0m \u001b[38;5;28mprint\u001b[39m(table\u001b[38;5;241m.\u001b[39mto_pandas()\u001b[38;5;241m.\u001b[39mto_markdown())\n",
      "File \u001b[0;32m~/miniforge3/envs/chaos/lib/python3.10/site-packages/influxdb_client_3/__init__.py:263\u001b[0m, in \u001b[0;36mInfluxDBClient3.query\u001b[0;34m(self, query, language, mode, database, **kwargs)\u001b[0m\n\u001b[1;32m    261\u001b[0m     \u001b[38;5;28;01mreturn\u001b[39;00m mode_func() \u001b[38;5;28;01mif\u001b[39;00m callable(mode_func) \u001b[38;5;28;01melse\u001b[39;00m mode_func\n\u001b[1;32m    262\u001b[0m \u001b[38;5;28;01mexcept\u001b[39;00m \u001b[38;5;167;01mException\u001b[39;00m \u001b[38;5;28;01mas\u001b[39;00m e:\n\u001b[0;32m--> 263\u001b[0m     \u001b[38;5;28;01mraise\u001b[39;00m e\n",
      "File \u001b[0;32m~/miniforge3/envs/chaos/lib/python3.10/site-packages/influxdb_client_3/__init__.py:249\u001b[0m, in \u001b[0;36mInfluxDBClient3.query\u001b[0;34m(self, query, language, mode, database, **kwargs)\u001b[0m\n\u001b[1;32m    247\u001b[0m ticket_data \u001b[38;5;241m=\u001b[39m {\u001b[38;5;124m\"\u001b[39m\u001b[38;5;124mdatabase\u001b[39m\u001b[38;5;124m\"\u001b[39m: database, \u001b[38;5;124m\"\u001b[39m\u001b[38;5;124msql_query\u001b[39m\u001b[38;5;124m\"\u001b[39m: query, \u001b[38;5;124m\"\u001b[39m\u001b[38;5;124mquery_type\u001b[39m\u001b[38;5;124m\"\u001b[39m: language}\n\u001b[1;32m    248\u001b[0m ticket \u001b[38;5;241m=\u001b[39m Ticket(json\u001b[38;5;241m.\u001b[39mdumps(ticket_data)\u001b[38;5;241m.\u001b[39mencode(\u001b[38;5;124m'\u001b[39m\u001b[38;5;124mutf-8\u001b[39m\u001b[38;5;124m'\u001b[39m))\n\u001b[0;32m--> 249\u001b[0m flight_reader \u001b[38;5;241m=\u001b[39m \u001b[38;5;28;43mself\u001b[39;49m\u001b[38;5;241;43m.\u001b[39;49m\u001b[43m_flight_client\u001b[49m\u001b[38;5;241;43m.\u001b[39;49m\u001b[43mdo_get\u001b[49m\u001b[43m(\u001b[49m\u001b[43mticket\u001b[49m\u001b[43m,\u001b[49m\u001b[43m \u001b[49m\u001b[43m_options\u001b[49m\u001b[43m)\u001b[49m\n\u001b[1;32m    251\u001b[0m mode_func \u001b[38;5;241m=\u001b[39m {\n\u001b[1;32m    252\u001b[0m     \u001b[38;5;124m\"\u001b[39m\u001b[38;5;124mall\u001b[39m\u001b[38;5;124m\"\u001b[39m: flight_reader\u001b[38;5;241m.\u001b[39mread_all,\n\u001b[1;32m    253\u001b[0m     \u001b[38;5;124m\"\u001b[39m\u001b[38;5;124mpandas\u001b[39m\u001b[38;5;124m\"\u001b[39m: flight_reader\u001b[38;5;241m.\u001b[39mread_pandas,\n\u001b[0;32m   (...)\u001b[0m\n\u001b[1;32m    258\u001b[0m \n\u001b[1;32m    259\u001b[0m }\u001b[38;5;241m.\u001b[39mget(mode, flight_reader\u001b[38;5;241m.\u001b[39mread_all)\n\u001b[1;32m    261\u001b[0m \u001b[38;5;28;01mreturn\u001b[39;00m mode_func() \u001b[38;5;28;01mif\u001b[39;00m callable(mode_func) \u001b[38;5;28;01melse\u001b[39;00m mode_func\n",
      "File \u001b[0;32m~/miniforge3/envs/chaos/lib/python3.10/site-packages/pyarrow/_flight.pyx:1633\u001b[0m, in \u001b[0;36mpyarrow._flight.FlightClient.do_get\u001b[0;34m()\u001b[0m\n",
      "File \u001b[0;32m~/miniforge3/envs/chaos/lib/python3.10/site-packages/pyarrow/_flight.pyx:68\u001b[0m, in \u001b[0;36mpyarrow._flight.check_flight_status\u001b[0;34m()\u001b[0m\n",
      "\u001b[0;31mFlightUnavailableError\u001b[0m: Flight returned unavailable error, with message: failed to connect to all addresses; last error: UNKNOWN: ipv4:127.0.0.1:8086: Ssl handshake failed: SSL_ERROR_SSL: error:0A00010B:SSL routines::wrong version number. gRPC client debug context: UNKNOWN:failed to connect to all addresses; last error: UNKNOWN: ipv4:127.0.0.1:8086: Ssl handshake failed: SSL_ERROR_SSL: error:0A00010B:SSL routines::wrong version number {grpc_status:14, created_time:\"2024-05-04T04:29:35.805167+02:00\"}. Client context: IOError: Server never sent a data message. Detail: Internal"
     ]
    },
    {
     "name": "stderr",
     "output_type": "stream",
     "text": [
      "E0504 04:29:41.814677000 6261026816 ssl_transport_security.cc:1501]    Handshake failed with fatal error SSL_ERROR_SSL: error:0A00010B:SSL routines::wrong version number.\n"
     ]
    }
   ],
   "source": [
    "query = \"select * from measurement1\"\n",
    "reader = client.query(query=query, language=\"influxql\")\n",
    "table = reader.read_all()\n",
    "print(table.to_pandas().to_markdown())"
   ]
  }
 ],
 "metadata": {
  "kernelspec": {
   "display_name": "chaos",
   "language": "python",
   "name": "python3"
  },
  "language_info": {
   "codemirror_mode": {
    "name": "ipython",
    "version": 3
   },
   "file_extension": ".py",
   "mimetype": "text/x-python",
   "name": "python",
   "nbconvert_exporter": "python",
   "pygments_lexer": "ipython3",
   "version": "3.10.6"
  }
 },
 "nbformat": 4,
 "nbformat_minor": 2
}
